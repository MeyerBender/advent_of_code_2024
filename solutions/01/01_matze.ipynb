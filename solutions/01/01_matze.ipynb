{
 "cells": [
  {
   "cell_type": "code",
   "execution_count": 25,
   "id": "56bf89ff-066a-4393-9341-bd183b67c6b8",
   "metadata": {
    "tags": []
   },
   "outputs": [],
   "source": [
    "import pandas as pd\n",
    "import numpy as np"
   ]
  },
  {
   "cell_type": "code",
   "execution_count": 38,
   "id": "caf098e1-77df-4003-91c8-f61489d97079",
   "metadata": {
    "tags": []
   },
   "outputs": [],
   "source": [
    "test = False\n",
    "\n",
    "if test:\n",
    "    l1 = np.array(sorted([3, 4, 2, 1, 3, 3]))\n",
    "    l2 = np.array(sorted([4, 3, 5, 3, 9, 3]))\n",
    "else:\n",
    "    df = pd.read_csv(\"1_input.txt\", sep=\"\\s+\", header=None)\n",
    "    l1 = np.array(sorted(df.iloc[:, 0].values))\n",
    "    l2 = np.array(sorted(df.iloc[:, 1].values))"
   ]
  },
  {
   "cell_type": "code",
   "execution_count": 39,
   "id": "00eddfe3-abbe-43ed-b877-dc3a40f403f2",
   "metadata": {
    "tags": []
   },
   "outputs": [
    {
     "data": {
      "text/plain": [
       "765748"
      ]
     },
     "execution_count": 39,
     "metadata": {},
     "output_type": "execute_result"
    }
   ],
   "source": [
    "res = sum(abs(l1 - l2))\n",
    "res"
   ]
  },
  {
   "cell_type": "code",
   "execution_count": 40,
   "id": "b5d748b4-0163-4ca7-8561-00adbb422328",
   "metadata": {},
   "outputs": [],
   "source": [
    "count_arr = np.unique(l2, return_counts=True)\n",
    "values, counts = count_arr\n",
    "count_dict = dict(zip(values, counts))"
   ]
  },
  {
   "cell_type": "code",
   "execution_count": 41,
   "id": "42d2163c-1e5c-401a-9025-b6d54c2bb15b",
   "metadata": {
    "tags": []
   },
   "outputs": [
    {
     "data": {
      "text/plain": [
       "27732508"
      ]
     },
     "execution_count": 41,
     "metadata": {},
     "output_type": "execute_result"
    }
   ],
   "source": [
    "res = 0\n",
    "for i in l1:\n",
    "    res += i * count_dict.get(i, 0)\n",
    "res"
   ]
  }
 ],
 "metadata": {
  "kernelspec": {
   "display_name": "tmp_env_2",
   "language": "python",
   "name": "tmp_env_2"
  },
  "language_info": {
   "codemirror_mode": {
    "name": "ipython",
    "version": 3
   },
   "file_extension": ".py",
   "mimetype": "text/x-python",
   "name": "python",
   "nbconvert_exporter": "python",
   "pygments_lexer": "ipython3",
   "version": "3.10.14"
  }
 },
 "nbformat": 4,
 "nbformat_minor": 5
}
