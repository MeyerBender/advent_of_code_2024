{
 "cells": [
  {
   "cell_type": "code",
   "execution_count": null,
   "id": "eaa9dbde-6875-466f-b026-f1e2529e159f",
   "metadata": {},
   "outputs": [],
   "source": [
    "# idea: enumerate all relevant pairings, construct the linear equation and get the points which are a certain distance away"
   ]
  },
  {
   "cell_type": "code",
   "execution_count": 120,
   "id": "80ceb3f7-be83-47d4-b973-072bf6871c56",
   "metadata": {
    "tags": []
   },
   "outputs": [],
   "source": [
    "from itertools import combinations\n",
    "import numpy as np\n",
    "import copy"
   ]
  },
  {
   "cell_type": "code",
   "execution_count": 121,
   "id": "f59a0aa4-fd0a-4aae-b8e4-9819cb7ae796",
   "metadata": {
    "tags": []
   },
   "outputs": [],
   "source": [
    "test = False\n",
    "if test:\n",
    "    text = \"\"\"............\n",
    "........0...\n",
    ".....0......\n",
    ".......0....\n",
    "....0.......\n",
    "......A.....\n",
    "............\n",
    "............\n",
    "........A...\n",
    ".........A..\n",
    "............\n",
    "............\"\"\"\n",
    "else:\n",
    "    with open('08_input.txt', 'r') as file:\n",
    "        text = file.read()\n",
    "\n",
    "antenna_map = [list(x) for x in text.split(\"\\n\")]"
   ]
  },
  {
   "cell_type": "code",
   "execution_count": 122,
   "id": "5b72b6fe-ffbc-4109-b70f-a53a6476cd07",
   "metadata": {
    "tags": []
   },
   "outputs": [
    {
     "data": {
      "text/plain": [
       "{'0': [array([8, 0]), array([7, 2]), array([18,  7]), array([9, 9])],\n",
       " 'c': [array([32,  0]), array([41,  4]), array([29,  5])],\n",
       " 'a': [array([8, 1]), array([7, 5]), array([3, 8]), array([ 0, 28])],\n",
       " 'r': [array([48,  2]), array([38,  5]), array([37,  7])],\n",
       " 'W': [array([5, 3]), array([11, 10]), array([ 6, 11]), array([ 0, 12])],\n",
       " 'Z': [array([14,  4]), array([47,  8]), array([ 9, 13]), array([24, 15])],\n",
       " 'F': [array([17,  4]), array([2, 5]), array([ 6, 22])],\n",
       " 'L': [array([37,  5]), array([36,  6]), array([41,  8]), array([30, 13])],\n",
       " '5': [array([43,  5]), array([37,  6]), array([36,  8]), array([20, 21])],\n",
       " 'v': [array([28,  6]), array([24,  7]), array([35, 17]), array([33, 32])],\n",
       " 'E': [array([41,  7]), array([33,  8]), array([38,  9])],\n",
       " 'p': [array([30,  8]), array([28,  9]), array([27, 12]), array([19, 17])],\n",
       " '7': [array([40,  8]), array([13, 10]), array([28, 21]), array([29, 27])],\n",
       " 'm': [array([43,  8]), array([31, 15]), array([36, 17]), array([42, 30])],\n",
       " 'j': [array([6, 9]), array([ 3, 10]), array([10, 14])],\n",
       " 'z': [array([22,  9]), array([ 5, 14]), array([10, 22]), array([13, 23])],\n",
       " 'S': [array([ 7, 10]), array([38, 37]), array([49, 47]), array([44, 48])],\n",
       " 'J': [array([30, 10]), array([23, 16]), array([34, 17]), array([25, 21])],\n",
       " '4': [array([39, 10]), array([47, 11]), array([40, 16]), array([32, 19])],\n",
       " 'X': [array([15, 11]), array([13, 14]), array([14, 16]), array([32, 17])],\n",
       " 'M': [array([44, 12]), array([49, 14]), array([46, 21]), array([45, 23])],\n",
       " 'i': [array([ 0, 13]), array([ 4, 22]), array([ 3, 23]), array([11, 28])],\n",
       " 'U': [array([44, 13]), array([39, 17]), array([34, 20]), array([43, 24])],\n",
       " 'b': [array([44, 14]), array([28, 25]), array([29, 30]), array([23, 31])],\n",
       " 'f': [array([ 4, 16]), array([ 2, 25]), array([ 1, 26]), array([13, 27])],\n",
       " 'H': [array([47, 16]), array([25, 29]), array([38, 39]), array([34, 40])],\n",
       " 'y': [array([ 0, 17]), array([ 1, 22]), array([ 7, 29]), array([ 4, 30])],\n",
       " 'R': [array([37, 17]), array([29, 28]), array([30, 34]), array([24, 47])],\n",
       " 'N': [array([ 9, 20]), array([ 6, 28]), array([22, 29]), array([23, 37])],\n",
       " 'u': [array([ 8, 21]), array([13, 24]), array([ 6, 32]), array([ 3, 33])],\n",
       " 'q': [array([12, 21]), array([11, 29]), array([22, 32]), array([13, 36])],\n",
       " '9': [array([37, 22]), array([38, 30]), array([44, 35]), array([43, 41])],\n",
       " 'x': [array([38, 22]), array([46, 25]), array([39, 35]), array([47, 36])],\n",
       " 'A': [array([44, 22]), array([45, 31]), array([47, 32])],\n",
       " '2': [array([ 9, 23]), array([ 8, 25]), array([12, 28]), array([ 7, 30])],\n",
       " 'w': [array([14, 23]), array([ 7, 31]), array([ 9, 32]), array([12, 34])],\n",
       " 'Y': [array([19, 23]), array([28, 31]), array([27, 32]), array([20, 34])],\n",
       " 'B': [array([12, 24]), array([13, 41]), array([ 9, 46]), array([ 6, 47])],\n",
       " 'I': [array([31, 24]), array([38, 25]), array([30, 28]), array([27, 33])],\n",
       " 'k': [array([16, 25]), array([24, 32]), array([35, 35]), array([23, 42])],\n",
       " 'G': [array([46, 26]), array([36, 27]), array([39, 28]), array([37, 31])],\n",
       " 'O': [array([ 1, 27]), array([ 7, 32]), array([12, 33]), array([ 2, 34])],\n",
       " 'o': [array([ 5, 27]), array([25, 28]), array([ 6, 29]), array([ 0, 34])],\n",
       " 't': [array([31, 27]), array([22, 35]), array([32, 36]), array([23, 40])],\n",
       " 'Q': [array([34, 27]), array([35, 29]), array([32, 34]), array([45, 36])],\n",
       " 'g': [array([22, 28]), array([ 8, 41]), array([19, 45]), array([11, 46])],\n",
       " 's': [array([34, 29]), array([18, 40]), array([11, 44]), array([17, 45])],\n",
       " 'K': [array([20, 30]), array([ 7, 33]), array([19, 38]), array([ 6, 41])],\n",
       " 'T': [array([47, 34]), array([33, 39]), array([28, 41]), array([26, 42])],\n",
       " '3': [array([26, 35]), array([22, 36]), array([29, 40]), array([27, 47])],\n",
       " 'C': [array([43, 35]), array([40, 43]), array([45, 44]), array([48, 48])],\n",
       " '6': [array([25, 36]), array([14, 38]), array([ 9, 41]), array([12, 43])],\n",
       " 'V': [array([ 0, 37]), array([13, 44]), array([ 9, 45]), array([ 2, 46])],\n",
       " '1': [array([35, 38]), array([48, 39]), array([44, 42]), array([43, 47])],\n",
       " 'n': [array([39, 38]), array([42, 40]), array([31, 45])],\n",
       " 'P': [array([42, 38]), array([37, 41]), array([36, 43]), array([49, 48])],\n",
       " '8': [array([ 6, 39]), array([ 5, 45]), array([25, 46])],\n",
       " 'h': [array([25, 41]), array([31, 42]), array([30, 43]), array([24, 48])],\n",
       " 'l': [array([31, 41]), array([18, 42]), array([22, 43]), array([23, 46])],\n",
       " 'e': [array([49, 42]), array([37, 43]), array([34, 44]), array([38, 45])]}"
      ]
     },
     "execution_count": 122,
     "metadata": {},
     "output_type": "execute_result"
    }
   ],
   "source": [
    "# for storage, I want a dict where each char is a key and each value is a list of coordinates where this char occurs\n",
    "location_dict = dict()\n",
    "for y in range(len(antenna_map)):\n",
    "    for x in range(len(antenna_map[y])):\n",
    "        char = antenna_map[y][x]\n",
    "        if char != '.':\n",
    "            if char not in location_dict.keys():\n",
    "                location_dict[char] = [np.array([x, y])]\n",
    "            else:\n",
    "                location_dict[char].append(np.array([x, y]))\n",
    "location_dict"
   ]
  },
  {
   "cell_type": "markdown",
   "id": "e0225d3a-3b79-411b-8d29-e75048d4ee31",
   "metadata": {},
   "source": [
    "# Task 1"
   ]
  },
  {
   "cell_type": "code",
   "execution_count": 123,
   "id": "9304edb5-1a05-4f40-8075-a3ab1e69a18e",
   "metadata": {
    "tags": []
   },
   "outputs": [
    {
     "data": {
      "text/plain": [
       "409"
      ]
     },
     "execution_count": 123,
     "metadata": {},
     "output_type": "execute_result"
    }
   ],
   "source": [
    "# now, we can go through each pairwise combination and get the corresponding antinode positions\n",
    "antinodes = []\n",
    "map_bounds = 0, len(antenna_map[0]), 0, len(antenna_map) # xmin, xmax, ymin, ymax\n",
    "\n",
    "for char in location_dict.keys():\n",
    "    locations = location_dict[char]\n",
    "    location_combinations = list(combinations(locations, 2))\n",
    "    for points in location_combinations:\n",
    "        p1, p2 = points[0], points[1]\n",
    "        delta = p2 - p1  # dx, dy\n",
    "        # adding/subtracting the deltas to p1 and p2\n",
    "        # then getting rid of p1 and p2\n",
    "        inferred_p1 = p1 + delta\n",
    "        inferred_p2 = p1 - delta\n",
    "        inferred_p3 = p2 + delta\n",
    "        inferred_p4 = p2 - delta\n",
    "\n",
    "        for inferred_point in [inferred_p1, inferred_p2, inferred_p3, inferred_p4]:\n",
    "            # checking if the inferred point is one of the original points\n",
    "            if np.any(inferred_point != p1) and np.any(inferred_point != p2):\n",
    "                # checking if the inferred point is in bounds\n",
    "                if inferred_point[0] >= map_bounds[0] and inferred_point[0] < map_bounds[1] and inferred_point[1] >= map_bounds[2] and inferred_point[1] < map_bounds[3]:\n",
    "                    antinodes.append(inferred_point)\n",
    "\n",
    "# removing duplicates\n",
    "antinodes = np.unique(np.vstack(antinodes), axis=0)\n",
    "len(antinodes)"
   ]
  },
  {
   "cell_type": "markdown",
   "id": "33a98ca8-957b-4805-a00a-01c2c27682f1",
   "metadata": {},
   "source": [
    "# Task 2"
   ]
  },
  {
   "cell_type": "code",
   "execution_count": 124,
   "id": "b94ab7e4-1564-475e-af0c-b773b85179e2",
   "metadata": {},
   "outputs": [
    {
     "data": {
      "text/plain": [
       "1308"
      ]
     },
     "execution_count": 124,
     "metadata": {},
     "output_type": "execute_result"
    }
   ],
   "source": [
    "# now, we can go through each pairwise combination and get the corresponding antinode positions\n",
    "# for storage, I want a dict where each char is a key and each value is a list of coordinates where this char occurs\n",
    "location_dict = dict()\n",
    "for y in range(len(antenna_map)):\n",
    "    for x in range(len(antenna_map[y])):\n",
    "        char = antenna_map[y][x]\n",
    "        if char != '.':\n",
    "            if char not in location_dict.keys():\n",
    "                location_dict[char] = [np.array([x, y])]\n",
    "            else:\n",
    "                location_dict[char].append(np.array([x, y]))\n",
    "\n",
    "antinodes = []\n",
    "map_bounds = 0, len(antenna_map[0]), 0, len(antenna_map) # xmin, xmax, ymin, ymax\n",
    "\n",
    "for char in location_dict.keys():\n",
    "    locations = location_dict[char]\n",
    "    location_combinations = list(combinations(locations, 2))\n",
    "    \n",
    "    for points in location_combinations:\n",
    "        p1, p2 = points[0], points[1]\n",
    "        delta = p2 - p1  # dx, dy\n",
    "                \n",
    "        # need to do this until we go out of bounds, but can only do from one points perspective\n",
    "        # getting the negative antinodes\n",
    "        in_bounds = True\n",
    "        inferred_point = p1.copy()\n",
    "        # p1 and p2 are in the points automatically\n",
    "        antinodes.append(p1.copy())\n",
    "        while in_bounds:\n",
    "            inferred_point -= delta\n",
    "            \n",
    "            if inferred_point[0] >= map_bounds[0] and inferred_point[0] < map_bounds[1] and inferred_point[1] >= map_bounds[2] and inferred_point[1] < map_bounds[3]:\n",
    "                antinodes.append(inferred_point.copy())\n",
    "                    \n",
    "            else:\n",
    "                in_bounds = False\n",
    "                \n",
    "        in_bounds = True\n",
    "        inferred_point = p1.copy()\n",
    "        while in_bounds:\n",
    "            inferred_point += delta\n",
    "            \n",
    "            if inferred_point[0] >= map_bounds[0] and inferred_point[0] < map_bounds[1] and inferred_point[1] >= map_bounds[2] and inferred_point[1] < map_bounds[3]:\n",
    "                antinodes.append(inferred_point.copy())\n",
    "            else:\n",
    "                in_bounds = False\n",
    "                \n",
    "# removing duplicates\n",
    "antinodes = np.unique(np.vstack(antinodes), axis=0)\n",
    "len(antinodes)"
   ]
  },
  {
   "cell_type": "code",
   "execution_count": 101,
   "id": "258abb01-f3be-4814-a9b1-53f6f01ba199",
   "metadata": {
    "tags": []
   },
   "outputs": [
    {
     "data": {
      "text/plain": [
       "[['.', '.', '.', '.', '.', '.', '.', '.', '.', '.', '.', '.'],\n",
       " ['.', '.', '.', '.', '.', '.', '.', '.', '0', '.', '.', '.'],\n",
       " ['.', '.', '.', '.', '.', '0', '.', '.', '.', '.', '.', '.'],\n",
       " ['.', '.', '.', '.', '.', '.', '.', '0', '.', '.', '.', '.'],\n",
       " ['.', '.', '.', '.', '0', '.', '.', '.', '.', '.', '.', '.'],\n",
       " ['.', '.', '.', '.', '.', '.', 'A', '.', '.', '.', '.', '.'],\n",
       " ['.', '.', '.', '.', '.', '.', '.', '.', '.', '.', '.', '.'],\n",
       " ['.', '.', '.', '.', '.', '.', '.', '.', '.', '.', '.', '.'],\n",
       " ['.', '.', '.', '.', '.', '.', '.', '.', 'A', '.', '.', '.'],\n",
       " ['.', '.', '.', '.', '.', '.', '.', '.', '.', 'A', '.', '.'],\n",
       " ['.', '.', '.', '.', '.', '.', '.', '.', '.', '.', '.', '.'],\n",
       " ['.', '.', '.', '.', '.', '.', '.', '.', '.', '.', '.', '.']]"
      ]
     },
     "execution_count": 101,
     "metadata": {},
     "output_type": "execute_result"
    }
   ],
   "source": [
    "new_map = antenna_map.copy()\n",
    "for x, y in antinodes:\n",
    "    new_map[y][x] = '#'"
   ]
  },
  {
   "cell_type": "code",
   "execution_count": 107,
   "id": "c2012059-aeda-4ed5-bd58-b4a6caa09b08",
   "metadata": {
    "tags": []
   },
   "outputs": [
    {
     "data": {
      "text/plain": [
       "'##....#....#\\n.#.#....#...\\n..#.##....#.\\n..##...#....\\n....#....#..\\n.#...##....#\\n...#..#.....\\n#....#.#....\\n..#.....#...\\n....#....#..\\n.#........#.\\n...#......##'"
      ]
     },
     "execution_count": 107,
     "metadata": {},
     "output_type": "execute_result"
    }
   ],
   "source": [
    "# just for debug purposes\n",
    "def print_map():\n",
    "    updated_map = copy.deepcopy(antenna_map)\n",
    "    for x, y in antinodes:\n",
    "        updated_map[y][x] = '#'\n",
    "    return '\\n'.join([''.join(x) for x in updated_map])\n",
    "computed_map = print_map()\n",
    "computed_map"
   ]
  },
  {
   "cell_type": "code",
   "execution_count": 106,
   "id": "079ab52e-a502-4fd3-91c6-5e7c3d4717bc",
   "metadata": {
    "tags": []
   },
   "outputs": [
    {
     "data": {
      "text/plain": [
       "'##....#....#\\n.#.#....0...\\n..#.#0....#.\\n..##...0....\\n....0....#..\\n.#...#A....#\\n...#..#.....\\n#....#.#....\\n..#.....A...\\n....#....A..\\n.#........#.\\n...#......##'"
      ]
     },
     "execution_count": 106,
     "metadata": {},
     "output_type": "execute_result"
    }
   ],
   "source": [
    "solution = \"\"\"##....#....#\n",
    ".#.#....0...\n",
    "..#.#0....#.\n",
    "..##...0....\n",
    "....0....#..\n",
    ".#...#A....#\n",
    "...#..#.....\n",
    "#....#.#....\n",
    "..#.....A...\n",
    "....#....A..\n",
    ".#........#.\n",
    "...#......##\"\"\"\n",
    "\n",
    "solution"
   ]
  },
  {
   "cell_type": "code",
   "execution_count": 109,
   "id": "2b5d5adb-f85c-4915-9e8d-dc676e38f430",
   "metadata": {
    "tags": []
   },
   "outputs": [
    {
     "name": "stdout",
     "output_type": "stream",
     "text": [
      "Mismatch at 21: # - 0\n",
      "Mismatch at 31: # - 0\n",
      "Mismatch at 46: # - 0\n",
      "Mismatch at 56: # - 0\n",
      "Mismatch at 71: # - A\n",
      "Mismatch at 112: # - A\n",
      "Mismatch at 126: # - A\n"
     ]
    }
   ],
   "source": [
    "for char in range(len(solution)):\n",
    "    if computed_map[char] != solution[char]:\n",
    "        print(f\"Mismatch at {char}: {computed_map[char]} - {solution[char]}\")"
   ]
  },
  {
   "cell_type": "code",
   "execution_count": 115,
   "id": "3ef0ee9e-e28a-466e-8632-643e86f1759f",
   "metadata": {
    "tags": []
   },
   "outputs": [
    {
     "data": {
      "text/plain": [
       "(array(['#', '.', '0', 'A'], dtype='<U1'), array([ 27, 110,   4,   3]))"
      ]
     },
     "execution_count": 115,
     "metadata": {},
     "output_type": "execute_result"
    }
   ],
   "source": [
    "np.unique([list(x) for x in solution.split(\"\\n\")], return_counts=True)"
   ]
  },
  {
   "cell_type": "code",
   "execution_count": 116,
   "id": "a0d65050-caf4-4c25-bad6-1e05ad04410d",
   "metadata": {
    "tags": []
   },
   "outputs": [
    {
     "data": {
      "text/plain": [
       "34"
      ]
     },
     "execution_count": 116,
     "metadata": {},
     "output_type": "execute_result"
    }
   ],
   "source": [
    "27+4+3"
   ]
  },
  {
   "cell_type": "code",
   "execution_count": null,
   "id": "29a65a4e-cbd4-4a3d-a768-5be7ff634237",
   "metadata": {},
   "outputs": [],
   "source": []
  }
 ],
 "metadata": {
  "kernelspec": {
   "display_name": "tmp_env_2",
   "language": "python",
   "name": "tmp_env_2"
  },
  "language_info": {
   "codemirror_mode": {
    "name": "ipython",
    "version": 3
   },
   "file_extension": ".py",
   "mimetype": "text/x-python",
   "name": "python",
   "nbconvert_exporter": "python",
   "pygments_lexer": "ipython3",
   "version": "3.10.14"
  }
 },
 "nbformat": 4,
 "nbformat_minor": 5
}
