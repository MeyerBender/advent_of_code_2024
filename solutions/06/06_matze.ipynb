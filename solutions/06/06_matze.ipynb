{
 "cells": [
  {
   "cell_type": "code",
   "execution_count": 1,
   "id": "b5b92174-266d-4c79-827f-cea90612a6eb",
   "metadata": {
    "tags": []
   },
   "outputs": [],
   "source": [
    "from tqdm.auto import tqdm\n",
    "import copy"
   ]
  },
  {
   "cell_type": "code",
   "execution_count": 2,
   "id": "67f4f5ec-aacf-4e48-ab46-94923df9b4a7",
   "metadata": {
    "tags": []
   },
   "outputs": [],
   "source": [
    "test = False\n",
    "if test:\n",
    "    text = \"\"\"....#.....\n",
    ".........#\n",
    "..........\n",
    "..#.......\n",
    ".......#..\n",
    "..........\n",
    ".#..^.....\n",
    "........#.\n",
    "#.........\n",
    "......#...\"\"\"\n",
    "else:\n",
    "    with open('06_input.txt', 'r') as file:\n",
    "        text = file.read()\n",
    "        \n",
    "current_map = [list(x) for x in text.split('\\n')]"
   ]
  },
  {
   "cell_type": "code",
   "execution_count": 3,
   "id": "6433ce41-162b-40a2-8738-6fdd7db43c07",
   "metadata": {
    "tags": []
   },
   "outputs": [
    {
     "name": "stdout",
     "output_type": "stream",
     "text": [
      "130 130\n"
     ]
    }
   ],
   "source": [
    "print(len(current_map), len(current_map[0]))"
   ]
  },
  {
   "cell_type": "markdown",
   "id": "2f1326bb-fc58-4372-85a4-6773cb455d98",
   "metadata": {},
   "source": [
    "# Task 1"
   ]
  },
  {
   "cell_type": "code",
   "execution_count": 4,
   "id": "76f1690d-90dc-45df-8857-30ff26d45ff6",
   "metadata": {
    "tags": []
   },
   "outputs": [],
   "source": [
    "def get_initial_guard_location(input_map):\n",
    "    for row_idx in range(len(current_map)):\n",
    "        row = current_map[row_idx]\n",
    "        for col_idx in range(len(row)):\n",
    "            char = row[col_idx]\n",
    "            if char != '.' and char != '#':\n",
    "                return char, col_idx, row_idx\n",
    "            \n",
    "def get_obstacle_locations():\n",
    "    locations = set()\n",
    "    for row_idx in range(len(current_map)):\n",
    "        row = current_map[row_idx]\n",
    "        for col_idx in range(len(row)):\n",
    "            char = row[col_idx]\n",
    "            if char == '#':\n",
    "                locations.add((row_idx, col_idx))\n",
    "    return locations\n",
    "\n",
    "obstacle_locations = get_obstacle_locations()"
   ]
  },
  {
   "cell_type": "code",
   "execution_count": 5,
   "id": "15660a19-707c-43ba-9356-a3b18f47377c",
   "metadata": {
    "tags": []
   },
   "outputs": [
    {
     "name": "stdout",
     "output_type": "stream",
     "text": [
      "Leaving map at x=105, y=-1\n"
     ]
    },
    {
     "data": {
      "text/plain": [
       "5534"
      ]
     },
     "execution_count": 5,
     "metadata": {},
     "output_type": "execute_result"
    }
   ],
   "source": [
    "def update_rotation(rotation):\n",
    "    rotation_lut = {'^': '>', '>': 'v', 'v': '<', '<': '^'}\n",
    "    return rotation_lut[rotation]\n",
    "\n",
    "def evaluate_bounds(x, y):\n",
    "    # xmin, xmax, ymin, ymax\n",
    "    bounds = 0, len(current_map), 0, len(current_map[0])\n",
    "    return x >= bounds[0] and x < bounds[1] and y >= bounds[0] and y < bounds[1]\n",
    "\n",
    "# just for debug purposes\n",
    "def print_map(x, y, rotation):\n",
    "    updated_map = copy.deepcopy(current_map)\n",
    "    updated_map[y][x] = rotation\n",
    "    print('\\n'.join([''.join(x) for x in updated_map]))\n",
    "    \n",
    "def print_final_map(locations):\n",
    "    updated_map = copy.deepcopy(current_map)\n",
    "    for (y, x) in locations:\n",
    "        updated_map[y][x] = 'X'\n",
    "    print('\\n'.join([''.join(x) for x in updated_map]))\n",
    "\n",
    "# get the updated location by checking the row_column in the right order until there is either a an obstacle or a wall\n",
    "# TODO: this is still wrong!\n",
    "def update_location(input_map, rotation, y, x):\n",
    "    in_bounds=True\n",
    "    # adding the initial location of the guard\n",
    "    visited_locations = {(y, x)}\n",
    "    char = None\n",
    "    next_char = None\n",
    "    while in_bounds:\n",
    "        while next_char != '#':\n",
    "            if rotation == '^':\n",
    "                y -= 1\n",
    "            elif rotation == '>':\n",
    "                x += 1\n",
    "            elif rotation == 'v':\n",
    "                y += 1\n",
    "            elif rotation == '<':\n",
    "                x -= 1\n",
    "            else:\n",
    "                raise ValueError(f\"Unexpected rotation: {rotation}\")\n",
    "            in_bounds = evaluate_bounds(x, y)\n",
    "            if not in_bounds:\n",
    "                #print_final_map(visited_locations)\n",
    "                print(f\"Leaving map at {x=}, {y=}\")\n",
    "                return visited_locations\n",
    "            if (y, x) not in obstacle_locations:\n",
    "                visited_locations.add((y, x))\n",
    "            # print(f\"prev: {next_char}, checking {y, x}\")\n",
    "            # print_map(x, y, '?')\n",
    "            # print_final_map(visited_locations)\n",
    "            next_char = input_map[y][x]\n",
    "        rotation = update_rotation(rotation)\n",
    "        # y, x at this point is the location of the obstacle, so the last operation needs to be reverted\n",
    "        # at the same time, we need to update the next position to check\n",
    "        if rotation == '^':\n",
    "            x += 1\n",
    "            y -= 1\n",
    "        elif rotation == '>':\n",
    "            x += 1\n",
    "            y += 1\n",
    "        elif rotation == 'v':\n",
    "            x -= 1\n",
    "            y += 1\n",
    "        elif rotation == '<':\n",
    "            x -= 1\n",
    "            y -= 1\n",
    "        else:\n",
    "            raise ValueError(f\"Unexpected rotation: {rotation}\")\n",
    "        next_char = input_map[y][x]\n",
    "        in_bounds = evaluate_bounds(x, y)\n",
    "        if not in_bounds:\n",
    "            #print_final_map(visited_locations)\n",
    "            print(f\"Leaving map at {x=}, {y=}\")\n",
    "            return visited_locations\n",
    "        if (y, x) not in obstacle_locations:\n",
    "            visited_locations.add((y, x))\n",
    "        # print(f\"updating rotation: {rotation}, {y}, {x}\")\n",
    "        # print_map(x, y, '?')\n",
    "        # print_final_map(visited_locations)\n",
    "        \n",
    "#print_final_map(set())\n",
    "#print(\"==========\")\n",
    "orientation, x, y = get_initial_guard_location(current_map)\n",
    "visited_locations = update_location(current_map, orientation, y, x)\n",
    "len(visited_locations)"
   ]
  },
  {
   "cell_type": "markdown",
   "id": "39fcf263-dc4b-43ce-81a2-9dab1767674f",
   "metadata": {},
   "source": [
    "# Task 2\n",
    "\n",
    "This is insanely inefficient and could be optimized a lot, but I don't have the time right now, so slow and dirty it is :P"
   ]
  },
  {
   "cell_type": "code",
   "execution_count": 13,
   "id": "14c06b99-1fee-432f-ad75-deda2fcb4ded",
   "metadata": {
    "tags": []
   },
   "outputs": [
    {
     "data": {
      "application/vnd.jupyter.widget-view+json": {
       "model_id": "cc23b2cb9d7b4fe296ff634b0a1a2dc6",
       "version_major": 2,
       "version_minor": 0
      },
      "text/plain": [
       "  0%|          | 0/5534 [00:00<?, ?it/s]"
      ]
     },
     "metadata": {},
     "output_type": "display_data"
    },
    {
     "data": {
      "text/plain": [
       "2262"
      ]
     },
     "execution_count": 13,
     "metadata": {},
     "output_type": "execute_result"
    }
   ],
   "source": [
    "# we know that the obstacle can only be relevant in a position that is visited by the guard at some point\n",
    "# we need to update the input map with the new obstacle and then check if the guard exits the lab or stays in bounds\n",
    "# Q: how to figure out if in loop? Rot and pos need to have been already visited in this combination\n",
    "\n",
    "def check_if_guard_in_loop(input_map, rotation, y, x):\n",
    "    # returns 1 if results in loop 0 otherwise\n",
    "    in_bounds = True\n",
    "    found_loop = False\n",
    "    # adding the initial location of the guard\n",
    "    visited_locations = [(y, x, rotation)]\n",
    "    char = None\n",
    "    next_char = None\n",
    "    while in_bounds:\n",
    "        while next_char != '#':\n",
    "            if rotation == '^':\n",
    "                y -= 1\n",
    "            elif rotation == '>':\n",
    "                x += 1\n",
    "            elif rotation == 'v':\n",
    "                y += 1\n",
    "            elif rotation == '<':\n",
    "                x -= 1\n",
    "            else:\n",
    "                raise ValueError(f\"Unexpected rotation: {rotation}\")\n",
    "                \n",
    "            # check for bounds\n",
    "            in_bounds = evaluate_bounds(x, y)\n",
    "            if not in_bounds:\n",
    "                return 0\n",
    "            \n",
    "            # check if is obstacle\n",
    "            if (y, x) not in obstacle_locations:\n",
    "                # check if already has been visited in this rotation\n",
    "                if (y, x, rotation) in visited_locations:\n",
    "                    return 1\n",
    "                visited_locations.append((y, x, rotation))\n",
    "            next_char = input_map[y][x]\n",
    "        rotation = update_rotation(rotation)\n",
    "        # y, x at this point is the location of the obstacle, so the last operation needs to be reverted\n",
    "        # at the same time, we need to update the next position to check\n",
    "        if rotation == '^':\n",
    "            x += 1\n",
    "            y -= 1\n",
    "        elif rotation == '>':\n",
    "            x += 1\n",
    "            y += 1\n",
    "        elif rotation == 'v':\n",
    "            x -= 1\n",
    "            y += 1\n",
    "        elif rotation == '<':\n",
    "            x -= 1\n",
    "            y -= 1\n",
    "        else:\n",
    "            raise ValueError(f\"Unexpected rotation: {rotation}\")\n",
    "        next_char = input_map[y][x]\n",
    "        \n",
    "        # check for bounds\n",
    "        in_bounds = evaluate_bounds(x, y)\n",
    "        if not in_bounds:\n",
    "            #print_final_map(visited_locations)\n",
    "            return 0\n",
    "        \n",
    "        # check if is obstacle\n",
    "        if (y, x) not in obstacle_locations:\n",
    "            # check if already has been visited in this rotation\n",
    "            if (y, x, rotation) in visited_locations:\n",
    "                return 1\n",
    "            visited_locations.append((y, x, rotation))\n",
    "        \n",
    "        \n",
    "orientation, x, y = get_initial_guard_location(current_map)\n",
    "res = 0\n",
    "for position in tqdm(visited_locations):\n",
    "    map_to_test = copy.deepcopy(current_map)\n",
    "    map_to_test[position[0]][position[1]] = '#'\n",
    "    res += check_if_guard_in_loop(map_to_test, orientation, y, x)\n",
    "res "
   ]
  }
 ],
 "metadata": {
  "kernelspec": {
   "display_name": "tmp_env_2",
   "language": "python",
   "name": "tmp_env_2"
  },
  "language_info": {
   "codemirror_mode": {
    "name": "ipython",
    "version": 3
   },
   "file_extension": ".py",
   "mimetype": "text/x-python",
   "name": "python",
   "nbconvert_exporter": "python",
   "pygments_lexer": "ipython3",
   "version": "3.10.14"
  }
 },
 "nbformat": 4,
 "nbformat_minor": 5
}
