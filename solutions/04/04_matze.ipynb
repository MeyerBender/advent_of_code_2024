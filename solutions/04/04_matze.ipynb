{
 "cells": [
  {
   "cell_type": "code",
   "execution_count": 1,
   "id": "050b6659-1620-4486-803c-54fdeadd4a3d",
   "metadata": {
    "tags": []
   },
   "outputs": [],
   "source": [
    "from itertools import zip_longest"
   ]
  },
  {
   "cell_type": "code",
   "execution_count": 2,
   "id": "a2b07944-7c37-49f3-b72d-d79396969f54",
   "metadata": {
    "tags": []
   },
   "outputs": [],
   "source": [
    "test = False\n",
    "if test:\n",
    "    text = \"MMMSXXMASM\\n\" \\\n",
    "            \"MSAMXMSMSA\\n\" \\\n",
    "            \"AMXSXMAAMM\\n\" \\\n",
    "            \"MSAMASMSMX\\n\" \\\n",
    "            \"XMASAMXAMM\\n\" \\\n",
    "            \"XXAMMXXAMA\\n\" \\\n",
    "            \"SMSMSASXSS\\n\" \\\n",
    "            \"SAXAMASAAA\\n\" \\\n",
    "            \"MAMMMXMMMM\\n\" \\\n",
    "            \"MXMXAXMASX\"\n",
    "else:\n",
    "    with open('04_input.txt', 'r') as file:\n",
    "        text = file.read()\n",
    "        \n",
    "input_list = text.split('\\n')"
   ]
  },
  {
   "cell_type": "markdown",
   "id": "9557cb37-cc81-43c7-96ad-94c238937c67",
   "metadata": {
    "tags": []
   },
   "source": [
    "# Task 1"
   ]
  },
  {
   "cell_type": "code",
   "execution_count": 3,
   "id": "600fe2aa-7a43-443d-9dac-befb8024c5b5",
   "metadata": {
    "tags": []
   },
   "outputs": [],
   "source": [
    "def horizontal_sweep(text):\n",
    "    # text is a list of strings\n",
    "    counter = 0\n",
    "    for line in text:\n",
    "        for i in range(len(line)-3):\n",
    "            substring = line[i:i+4]\n",
    "            if substring == \"XMAS\" or substring == \"SAMX\":\n",
    "                counter += 1\n",
    "                \n",
    "    return counter\n",
    "                \n",
    "horizontal = horizontal_sweep(input_list)"
   ]
  },
  {
   "cell_type": "code",
   "execution_count": 4,
   "id": "bf4521df-59f6-474b-9819-88c6b3b86171",
   "metadata": {
    "tags": []
   },
   "outputs": [],
   "source": [
    "def vertical_sweep(text):\n",
    "    transposed = [''.join(chars) for chars in zip_longest(*text)]\n",
    "    return horizontal_sweep(transposed)\n",
    "\n",
    "vertical = vertical_sweep(input_list)"
   ]
  },
  {
   "cell_type": "code",
   "execution_count": 5,
   "id": "d86ddce6-7e86-476c-85d1-eb51568a2eb1",
   "metadata": {
    "tags": []
   },
   "outputs": [],
   "source": [
    "def right_diag_sweep(text):\n",
    "    # first, I add some padding to each row, and then I perform a vertical sweep\n",
    "    line_length = len(text[0]) -1\n",
    "    padded_text = ['.' * i + x + '.' * (line_length-i) for i, x in enumerate(text)]\n",
    "    return vertical_sweep(padded_text)\n",
    "\n",
    "right_diag = right_diag_sweep(input_list)"
   ]
  },
  {
   "cell_type": "code",
   "execution_count": 6,
   "id": "db4ad0ae-b897-4f8d-9a93-c5dfb60f67a5",
   "metadata": {
    "tags": []
   },
   "outputs": [],
   "source": [
    "def left_diag_sweep(text):\n",
    "    # first, I add some padding to each row, and then I perform a vertical sweep\n",
    "    line_length = len(text[0]) -1\n",
    "    padded_text = ['.' * (line_length-i) + x + '.' * i for i, x in enumerate(text)]\n",
    "    return vertical_sweep(padded_text)\n",
    "\n",
    "left_diag = left_diag_sweep(input_list)"
   ]
  },
  {
   "cell_type": "code",
   "execution_count": 7,
   "id": "dd2ee729-77a9-4475-8d05-44ed57e32409",
   "metadata": {
    "tags": []
   },
   "outputs": [
    {
     "data": {
      "text/plain": [
       "2567"
      ]
     },
     "execution_count": 7,
     "metadata": {},
     "output_type": "execute_result"
    }
   ],
   "source": [
    "horizontal + vertical + right_diag + left_diag"
   ]
  },
  {
   "cell_type": "markdown",
   "id": "0f038eb3-2e63-4577-9ee3-912bbc846d5d",
   "metadata": {},
   "source": [
    "# Task 2"
   ]
  },
  {
   "cell_type": "code",
   "execution_count": 8,
   "id": "9a663c61-d8af-40e2-9a62-9dc47fb05eb8",
   "metadata": {
    "tags": []
   },
   "outputs": [],
   "source": [
    "# for this task, indexing becomes easier if we simply have a list of lists\n",
    "input_list = [list(x) for x in input_list]"
   ]
  },
  {
   "cell_type": "code",
   "execution_count": 9,
   "id": "81334ffc-1565-4e2c-80c3-7276e4440a9c",
   "metadata": {
    "tags": []
   },
   "outputs": [
    {
     "data": {
      "text/plain": [
       "2029"
      ]
     },
     "execution_count": 9,
     "metadata": {},
     "output_type": "execute_result"
    }
   ],
   "source": [
    "def extract_crosses(grid):\n",
    "    rows = len(grid)\n",
    "    cols = len(grid[0])\n",
    "\n",
    "    windows = []\n",
    "\n",
    "    # Traverse the grid, ensuring there's space for a 3x3 window\n",
    "    for i in range(rows - 2):  # Stop 2 rows before the end\n",
    "        for j in range(cols - 2):  # Stop 2 columns before the end\n",
    "            # Extract the 3x3 window starting at (i, j)\n",
    "            window = [grid[x][y] for x in range(i, i + 3) for y in range(j, j + 3)]\n",
    "            windows.append(''.join(window))\n",
    "    \n",
    "    return windows\n",
    "\n",
    "def check_validity_of_cross(crosses):\n",
    "    res = 0\n",
    "    for cross in crosses:\n",
    "        diag1 = cross[0] + cross[4] + cross[8]\n",
    "        diag2 = cross[2] + cross[4] + cross[6]\n",
    "        if (diag1 == \"SAM\" or diag1 == \"MAS\") and (diag2 == \"SAM\" or diag2 == \"MAS\"):\n",
    "            res += 1\n",
    "    return res\n",
    "    \n",
    "crosses = extract_crosses(input_list)\n",
    "check_validity_of_cross(crosses)"
   ]
  }
 ],
 "metadata": {
  "kernelspec": {
   "display_name": "tmp_env_2",
   "language": "python",
   "name": "tmp_env_2"
  },
  "language_info": {
   "codemirror_mode": {
    "name": "ipython",
    "version": 3
   },
   "file_extension": ".py",
   "mimetype": "text/x-python",
   "name": "python",
   "nbconvert_exporter": "python",
   "pygments_lexer": "ipython3",
   "version": "3.10.14"
  }
 },
 "nbformat": 4,
 "nbformat_minor": 5
}
