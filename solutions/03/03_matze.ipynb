{
 "cells": [
  {
   "cell_type": "code",
   "execution_count": 31,
   "id": "6a93012d-ead9-4263-9650-20473db2baf5",
   "metadata": {
    "tags": []
   },
   "outputs": [],
   "source": [
    "import re"
   ]
  },
  {
   "cell_type": "code",
   "execution_count": 32,
   "id": "ac4d1528-6102-48dd-800d-5f31f61e8ef8",
   "metadata": {
    "tags": []
   },
   "outputs": [],
   "source": [
    "test = False\n",
    "if test:\n",
    "    text = \"xmul(2,4)%&mul[3,7]!@^do_not_mul(5,5)+mul(32,64]then(mul(11,8)mul(8,5))\"\n",
    "else:\n",
    "    with open('03_input.txt', 'r') as file:\n",
    "        text = file.read()"
   ]
  },
  {
   "cell_type": "markdown",
   "id": "bca49496-e713-4043-9089-638e95127f3a",
   "metadata": {},
   "source": [
    "# Part 1"
   ]
  },
  {
   "cell_type": "code",
   "execution_count": 33,
   "id": "bf7e36ee-6e6d-4873-b495-e0b15a4dd39f",
   "metadata": {
    "tags": []
   },
   "outputs": [],
   "source": [
    "# find regex pattern\n",
    "pattern = r\"mul\\(.{1,3},.{1,3}\\)\"\n",
    "matches = re.findall(pattern, text)"
   ]
  },
  {
   "cell_type": "code",
   "execution_count": 34,
   "id": "4edcf1f2-46d6-4684-b8ae-db6ff643f34a",
   "metadata": {
    "tags": []
   },
   "outputs": [
    {
     "data": {
      "text/plain": [
       "184576302"
      ]
     },
     "execution_count": 34,
     "metadata": {},
     "output_type": "execute_result"
    }
   ],
   "source": [
    "# actually perform the multiplication\n",
    "res = [x.replace('mul(', '').replace(')', '').split(',') for x in matches]\n",
    "res = sum([int(x[0])*int(x[1]) for x in res])\n",
    "res"
   ]
  },
  {
   "cell_type": "markdown",
   "id": "08c1f4af-9b2d-4af5-8952-46708d3d2a4d",
   "metadata": {},
   "source": [
    "# Part 2"
   ]
  },
  {
   "cell_type": "code",
   "execution_count": 35,
   "id": "5add6cef-92c9-4d6e-a9c9-84f9f61c6887",
   "metadata": {
    "tags": []
   },
   "outputs": [],
   "source": [
    "test = False\n",
    "if test:\n",
    "    text = \"xmul(2,4)&mul[3,7]!^don't()_mul(5,5)+mul(32,64](mul(11,8)undo()?mul(8,5))\"\n",
    "else:\n",
    "    with open('03_input.txt', 'r') as file:\n",
    "        text = file.read()"
   ]
  },
  {
   "cell_type": "code",
   "execution_count": 36,
   "id": "6e5220b8-d7be-4894-8433-f3e42363ae2f",
   "metadata": {
    "tags": []
   },
   "outputs": [],
   "source": [
    "# find regex pattern\n",
    "pattern = r\"do\\(\\)|don't\\(\\)|mul\\(.{1,3},.{1,3}\\)\"\n",
    "matches = re.findall(pattern, text)"
   ]
  },
  {
   "cell_type": "code",
   "execution_count": 37,
   "id": "c444ed30-6392-4973-9492-4918a65fcc5e",
   "metadata": {
    "tags": []
   },
   "outputs": [
    {
     "data": {
      "text/plain": [
       "118173507"
      ]
     },
     "execution_count": 37,
     "metadata": {},
     "output_type": "execute_result"
    }
   ],
   "source": [
    "res = 0\n",
    "execute_next = True\n",
    "for instruction in matches:\n",
    "    if instruction == \"do()\":\n",
    "        execute_next = True\n",
    "    elif instruction == \"don't()\":\n",
    "        execute_next = False\n",
    "    elif execute_next:\n",
    "        mul_instruct = instruction.replace('mul(', '').replace(')', '').split(',')\n",
    "        res += int(mul_instruct[0]) * int(mul_instruct[1])\n",
    "res"
   ]
  }
 ],
 "metadata": {
  "kernelspec": {
   "display_name": "tmp_env_2",
   "language": "python",
   "name": "tmp_env_2"
  },
  "language_info": {
   "codemirror_mode": {
    "name": "ipython",
    "version": 3
   },
   "file_extension": ".py",
   "mimetype": "text/x-python",
   "name": "python",
   "nbconvert_exporter": "python",
   "pygments_lexer": "ipython3",
   "version": "3.10.14"
  }
 },
 "nbformat": 4,
 "nbformat_minor": 5
}
