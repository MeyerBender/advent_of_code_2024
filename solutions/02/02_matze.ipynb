{
 "cells": [
  {
   "cell_type": "code",
   "execution_count": 71,
   "id": "d519128a-eff3-4a68-970d-8556611be930",
   "metadata": {
    "tags": []
   },
   "outputs": [],
   "source": [
    "import pandas as pd\n",
    "import numpy as np"
   ]
  },
  {
   "cell_type": "code",
   "execution_count": 72,
   "id": "080aa389-97d4-4cb9-8f59-cfe89c7851bf",
   "metadata": {
    "tags": []
   },
   "outputs": [
    {
     "data": {
      "text/plain": [
       "[[45, 47, 48, 50, 51, 52, 54, 51],\n",
       " [23, 26, 27, 30, 30],\n",
       " [40, 41, 44, 47, 49, 51, 55]]"
      ]
     },
     "execution_count": 72,
     "metadata": {},
     "output_type": "execute_result"
    }
   ],
   "source": [
    "with open(\"02_input.txt\", \"r\") as file:\n",
    "    list_of_lists = [[int(x) for x in line.strip().split()] for line in file]\n",
    "\n",
    "list_of_lists[:3]"
   ]
  },
  {
   "cell_type": "markdown",
   "id": "d6fd2fe6-b527-4bd6-9976-e94a20892d2c",
   "metadata": {},
   "source": [
    "# Part 1"
   ]
  },
  {
   "cell_type": "code",
   "execution_count": 73,
   "id": "2156a28d-26de-400c-a96b-44369cdd7118",
   "metadata": {
    "tags": []
   },
   "outputs": [],
   "source": [
    "# returns 1 if safe, else 0\n",
    "def is_safe(l):\n",
    "    # track if it is increasing or decreasing based on the first two entries\n",
    "    decreasing = True if l[1] < l[0] else False\n",
    "    increasing = not decreasing\n",
    "    \n",
    "    prev = l[0]\n",
    "    for i in l[1:]:\n",
    "        diff = i - prev\n",
    "        \n",
    "        if abs(diff) < 1 or abs(diff) > 3:\n",
    "            return 0\n",
    "        if diff > 0:\n",
    "            increasing = True\n",
    "        else:\n",
    "            decreasing = True\n",
    "        prev = i\n",
    "    \n",
    "    if increasing and decreasing:\n",
    "        return 0\n",
    "    \n",
    "    return 1"
   ]
  },
  {
   "cell_type": "code",
   "execution_count": 74,
   "id": "9bb30ea8-3f50-47ac-802b-768f2dbbffeb",
   "metadata": {
    "tags": []
   },
   "outputs": [
    {
     "name": "stdout",
     "output_type": "stream",
     "text": [
      "1\n",
      "0\n",
      "0\n"
     ]
    }
   ],
   "source": [
    "# test \n",
    "l1 = [7, 6, 4, 2, 1]\n",
    "l2 = [1, 2, 7, 8, 9]\n",
    "l3 = [1, 3, 2, 4, 5]\n",
    "print(is_safe(l1))\n",
    "print(is_safe(l2))\n",
    "print(is_safe(l3))"
   ]
  },
  {
   "cell_type": "code",
   "execution_count": 75,
   "id": "4738217b-28db-4654-8aa9-eefd1c60bfb4",
   "metadata": {
    "tags": []
   },
   "outputs": [
    {
     "data": {
      "text/plain": [
       "663"
      ]
     },
     "execution_count": 75,
     "metadata": {},
     "output_type": "execute_result"
    }
   ],
   "source": [
    "res = 0\n",
    "for l in list_of_lists:\n",
    "    res += is_safe(l)\n",
    "res"
   ]
  },
  {
   "cell_type": "markdown",
   "id": "637a8464-416d-4044-a63e-fb0a66f0d4cf",
   "metadata": {},
   "source": [
    "# Part 2"
   ]
  },
  {
   "cell_type": "code",
   "execution_count": 84,
   "id": "ddfe272e-06e7-40df-902a-f33570095600",
   "metadata": {
    "tags": []
   },
   "outputs": [],
   "source": [
    "# returns 1 if safe, else 0\n",
    "# I know this is very inefficient, but I think still brute-forceable\n",
    "def is_safe_with_dampener(l):\n",
    "    res = 0\n",
    "    for i in range(len(l)):\n",
    "        l_tmp = l.copy()\n",
    "        l_tmp.pop(i)\n",
    "        res += is_safe(l_tmp)\n",
    "    return int(res >= 1)"
   ]
  },
  {
   "cell_type": "code",
   "execution_count": 85,
   "id": "df766023-bbc0-4dcb-99fc-72eab2157c6a",
   "metadata": {
    "tags": []
   },
   "outputs": [
    {
     "name": "stdout",
     "output_type": "stream",
     "text": [
      "1\n",
      "0\n",
      "0\n",
      "1\n",
      "1\n",
      "1\n"
     ]
    }
   ],
   "source": [
    "# test \n",
    "lol_tmp = [[7, 6, 4, 2, 1], # Safe without removing any level.\n",
    "[1, 2, 7, 8, 9], # Unsafe regardless of which level is removed.\n",
    "[9, 7, 6, 2, 1], # Unsafe regardless of which level is removed.\n",
    "[1, 3, 2, 4, 5], # Safe by removing the second level, 3.\n",
    "[8, 6, 4, 4, 1], # Safe by removing the third level, 4.\n",
    "[1, 3, 6, 7, 9]] # Safe\n",
    "\n",
    "for l in lol_tmp:\n",
    "    print(is_safe_with_dampener(l))"
   ]
  },
  {
   "cell_type": "code",
   "execution_count": 86,
   "id": "da230452-55dc-4233-a0b9-4bf37a8bfb19",
   "metadata": {
    "tags": []
   },
   "outputs": [
    {
     "data": {
      "text/plain": [
       "692"
      ]
     },
     "execution_count": 86,
     "metadata": {},
     "output_type": "execute_result"
    }
   ],
   "source": [
    "res = 0\n",
    "for l in list_of_lists:\n",
    "    res += is_safe_with_dampener(l)\n",
    "res"
   ]
  }
 ],
 "metadata": {
  "kernelspec": {
   "display_name": "tmp_env_2",
   "language": "python",
   "name": "tmp_env_2"
  },
  "language_info": {
   "codemirror_mode": {
    "name": "ipython",
    "version": 3
   },
   "file_extension": ".py",
   "mimetype": "text/x-python",
   "name": "python",
   "nbconvert_exporter": "python",
   "pygments_lexer": "ipython3",
   "version": "3.10.14"
  }
 },
 "nbformat": 4,
 "nbformat_minor": 5
}
