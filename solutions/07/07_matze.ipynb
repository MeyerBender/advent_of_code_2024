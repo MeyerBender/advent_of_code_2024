{
 "cells": [
  {
   "cell_type": "code",
   "execution_count": 36,
   "id": "43a75179-24ab-4579-9300-0f0744789407",
   "metadata": {},
   "outputs": [],
   "source": [
    "from itertools import product\n",
    "from tqdm.auto import tqdm"
   ]
  },
  {
   "cell_type": "code",
   "execution_count": 66,
   "id": "836bc72f-2c00-4446-a1b9-889078e43982",
   "metadata": {},
   "outputs": [],
   "source": [
    "test = False\n",
    "if test:\n",
    "    text = \"\"\"190: 10 19\n",
    "3267: 81 40 27\n",
    "83: 17 5\n",
    "156: 15 6\n",
    "7290: 6 8 6 15\n",
    "161011: 16 10 13\n",
    "192: 17 8 14\n",
    "21037: 9 7 18 13\n",
    "292: 11 6 16 20\"\"\"\n",
    "else:\n",
    "    with open('07_input.txt', 'r') as file:\n",
    "        text = file.read()\n",
    "\n",
    "equations = text.split(\"\\n\")"
   ]
  },
  {
   "cell_type": "markdown",
   "id": "858a4f1a-2133-4151-b3eb-e6b129c771fd",
   "metadata": {},
   "source": [
    "# Part 1"
   ]
  },
  {
   "cell_type": "code",
   "execution_count": 67,
   "id": "c00fe523-7b43-478d-943c-335207b08deb",
   "metadata": {},
   "outputs": [],
   "source": [
    "def evaluate_equation(equation):\n",
    "    solution, components = equation.split(\": \")\n",
    "    solution = int(solution)\n",
    "    components = [int(x) for x in components.split(\" \")]\n",
    "\n",
    "    # iterating through the components left to right, starting with all pluses\n",
    "    # if the current solution is larger than the actual solution, continue\n",
    "    \n",
    "    # this is a list that stores all of the operators\n",
    "    operators = ['+'] * (len(components) - 1)\n",
    "    \n",
    "    # Generate all possibilities\n",
    "    possibilities = list(product([\"+\", \"*\"], repeat=len(operators)))\n",
    "    possibilities = [list(p) for p in possibilities]\n",
    "    \n",
    "    # flag to show if a solution has been found\n",
    "    found_solution = False\n",
    "    # flag to indicate if all possibilities have been exhausted\n",
    "    end_of_possibilities = False\n",
    "    while not found_solution and not end_of_possibilities:\n",
    "        # updating the list of operators by inserting * at any valid positions\n",
    "        for operators in possibilities:\n",
    "            temporary_solution = components[0]\n",
    "            \n",
    "            for operator, component in zip(operators, components[1:]):\n",
    "                if operator == '+':\n",
    "                    temporary_solution += component\n",
    "                else:\n",
    "                    temporary_solution *= component\n",
    "                # check if the current solution is larger than the actual solution\n",
    "                if temporary_solution > solution:\n",
    "                    continue\n",
    "            # checking if the end solution is correct\n",
    "            if temporary_solution == solution:\n",
    "                found_solution = True\n",
    "                break\n",
    "            # checking if all operators are *\n",
    "            # if so, we break out of the loop\n",
    "            if all(element == '*' for element in operators):\n",
    "                end_of_possibilities = True\n",
    "                break\n",
    "    if found_solution:\n",
    "        return solution\n",
    "    return 0"
   ]
  },
  {
   "cell_type": "code",
   "execution_count": 68,
   "id": "0cfeff01-a23c-467b-8003-cb39d8572a12",
   "metadata": {},
   "outputs": [
    {
     "data": {
      "application/vnd.jupyter.widget-view+json": {
       "model_id": "14826f44518d469b99455250a60918a1",
       "version_major": 2,
       "version_minor": 0
      },
      "text/plain": [
       "  0%|          | 0/850 [00:00<?, ?it/s]"
      ]
     },
     "metadata": {},
     "output_type": "display_data"
    },
    {
     "data": {
      "text/plain": [
       "975671981569"
      ]
     },
     "execution_count": 68,
     "metadata": {},
     "output_type": "execute_result"
    }
   ],
   "source": [
    "res = 0\n",
    "for equation in tqdm(equations):\n",
    "    res += evaluate_equation(equation)\n",
    "res"
   ]
  },
  {
   "cell_type": "markdown",
   "id": "9e468145-4d88-48fc-9fce-96366dcec683",
   "metadata": {},
   "source": [
    "# Part 2"
   ]
  },
  {
   "cell_type": "code",
   "execution_count": 69,
   "id": "fd1ead23-50e4-4955-b6a0-5319c86c46e0",
   "metadata": {},
   "outputs": [],
   "source": [
    "def evaluate_equation(equation):\n",
    "    solution, components = equation.split(\": \")\n",
    "    solution = int(solution)\n",
    "    components = [int(x) for x in components.split(\" \")]\n",
    "\n",
    "    # iterating through the components left to right, starting with all pluses\n",
    "    # if the current solution is larger than the actual solution, continue\n",
    "    \n",
    "    # this is a list that stores all of the operators\n",
    "    operators = ['+'] * (len(components) - 1)\n",
    "    \n",
    "    # Generate all possibilities\n",
    "    possibilities = list(product([\"+\", \"*\", \"|\"], repeat=len(operators)))\n",
    "    possibilities = [list(p) for p in possibilities]\n",
    "    \n",
    "    # flag to show if a solution has been found\n",
    "    found_solution = False\n",
    "    # flag to indicate if all possibilities have been exhausted\n",
    "    end_of_possibilities = False\n",
    "    while not found_solution and not end_of_possibilities:\n",
    "        # updating the list of operators by inserting * at any valid positions\n",
    "        for i, operators in enumerate(possibilities):\n",
    "            temporary_solution = components[0]\n",
    "            \n",
    "            for operator, component in zip(operators, components[1:]):\n",
    "                if operator == '+':\n",
    "                    temporary_solution += component\n",
    "                elif operator == '*':\n",
    "                    temporary_solution *= component\n",
    "                else: \n",
    "                    temporary_solution = int(str(temporary_solution) + str(component))\n",
    "                # check if the current solution is larger than the actual solution\n",
    "                if temporary_solution > solution:\n",
    "                    continue\n",
    "            # checking if the end solution is correct\n",
    "            if temporary_solution == solution:\n",
    "                found_solution = True\n",
    "                break\n",
    "            # checking if we have exhausted all possibilities\n",
    "            if i == len(possibilities)-1:\n",
    "                end_of_possibilities = True\n",
    "                break\n",
    "    if found_solution:\n",
    "        return solution\n",
    "    return 0"
   ]
  },
  {
   "cell_type": "code",
   "execution_count": 70,
   "id": "5d5d4b9b-5333-46b8-9866-3742afdd7d09",
   "metadata": {},
   "outputs": [
    {
     "data": {
      "application/vnd.jupyter.widget-view+json": {
       "model_id": "e43cbb3387c24b5c89ddcc446bd76f1a",
       "version_major": 2,
       "version_minor": 0
      },
      "text/plain": [
       "  0%|          | 0/850 [00:00<?, ?it/s]"
      ]
     },
     "metadata": {},
     "output_type": "display_data"
    },
    {
     "data": {
      "text/plain": [
       "223472064194845"
      ]
     },
     "execution_count": 70,
     "metadata": {},
     "output_type": "execute_result"
    }
   ],
   "source": [
    "res = 0\n",
    "for equation in tqdm(equations):\n",
    "    res += evaluate_equation(equation)\n",
    "res"
   ]
  },
  {
   "cell_type": "code",
   "execution_count": null,
   "id": "016d68dc-893e-4504-b5fb-880d1e693204",
   "metadata": {},
   "outputs": [],
   "source": []
  }
 ],
 "metadata": {
  "kernelspec": {
   "display_name": "Python 3 (ipykernel)",
   "language": "python",
   "name": "python3"
  },
  "language_info": {
   "codemirror_mode": {
    "name": "ipython",
    "version": 3
   },
   "file_extension": ".py",
   "mimetype": "text/x-python",
   "name": "python",
   "nbconvert_exporter": "python",
   "pygments_lexer": "ipython3",
   "version": "3.10.9"
  }
 },
 "nbformat": 4,
 "nbformat_minor": 5
}
