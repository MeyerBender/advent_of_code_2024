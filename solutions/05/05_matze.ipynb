{
 "cells": [
  {
   "cell_type": "code",
   "execution_count": 1,
   "id": "5ef7df0c-cd5c-4bb3-869e-ad8565dbb964",
   "metadata": {
    "tags": []
   },
   "outputs": [],
   "source": [
    "test = False\n",
    "if test:\n",
    "    text = \"\"\"47|53\n",
    "97|13\n",
    "97|61\n",
    "97|47\n",
    "75|29\n",
    "61|13\n",
    "75|53\n",
    "29|13\n",
    "97|29\n",
    "53|29\n",
    "61|53\n",
    "97|53\n",
    "61|29\n",
    "47|13\n",
    "75|47\n",
    "97|75\n",
    "47|61\n",
    "75|61\n",
    "47|29\n",
    "75|13\n",
    "53|13\n",
    "\n",
    "75,47,61,53,29\n",
    "97,61,53,29,13\n",
    "75,29,13\n",
    "75,97,47,61,53\n",
    "61,13,29\n",
    "97,13,75,29,47\"\"\"\n",
    "else:\n",
    "    with open('05_input.txt', 'r') as file:\n",
    "        text = file.read()\n",
    "        \n",
    "rules, orderings = text.split('\\n\\n')\n",
    "rules = [(int(x.split('|')[0]), int(x.split('|')[1])) for x in rules.split('\\n')]\n",
    "orderings = [x.split(',') for x in orderings.split('\\n')]\n",
    "orderings = [[int(y) for y in x] for x in orderings]"
   ]
  },
  {
   "cell_type": "markdown",
   "id": "36f52521-9fe4-4d58-ac0c-cc1953d80bee",
   "metadata": {},
   "source": [
    "# Task 1"
   ]
  },
  {
   "cell_type": "code",
   "execution_count": 2,
   "id": "8c52d2a4-9189-4f96-ac8d-cff8a76d7be3",
   "metadata": {
    "tags": []
   },
   "outputs": [],
   "source": [
    "# first, select only rules where both numbers are contained in the ordering, then simply check if every second number comes after the first\n",
    "def evaluate_ordering(ordering):\n",
    "    # returns the middle number if the rule is valid and 0 otherwise\n",
    "    seen_pages = set()\n",
    "    relevant_rules = [rule for rule in rules if rule[0] in ordering and rule[1] in ordering]\n",
    "    for i, page in enumerate(ordering):\n",
    "        for rule in relevant_rules:\n",
    "            num1, num2 = rule\n",
    "            # adding the number to the seen pages\n",
    "            seen_pages.add(page)\n",
    "            # if the page is a first number, we need to check if we have already seen the second number\n",
    "            # if so, the whole ordering is wrong\n",
    "            if page == num1 and num2 in seen_pages:\n",
    "                    return 0\n",
    "    return ordering[int(len(ordering)/2)]"
   ]
  },
  {
   "cell_type": "code",
   "execution_count": 3,
   "id": "97bacdd4-05cf-4452-ac26-72f5bd842893",
   "metadata": {
    "tags": []
   },
   "outputs": [
    {
     "data": {
      "text/plain": [
       "5091"
      ]
     },
     "execution_count": 3,
     "metadata": {},
     "output_type": "execute_result"
    }
   ],
   "source": [
    "res = 0\n",
    "for ordering in orderings:\n",
    "    res += evaluate_ordering(ordering)\n",
    "res"
   ]
  },
  {
   "cell_type": "markdown",
   "id": "7c09869d-9f4a-49c4-a00e-da3b305ab1dd",
   "metadata": {},
   "source": [
    "# Task 2"
   ]
  },
  {
   "cell_type": "code",
   "execution_count": 4,
   "id": "6dc7bf27-96ac-4c00-89f3-89c0f985c659",
   "metadata": {
    "tags": []
   },
   "outputs": [],
   "source": [
    "def evaluate_ordering(ordering):\n",
    "    # returns true or false, otherwise the same as above\n",
    "    seen_pages = set()\n",
    "    relevant_rules = [rule for rule in rules if rule[0] in ordering and rule[1] in ordering]\n",
    "    for i, page in enumerate(ordering):\n",
    "        for rule in relevant_rules:\n",
    "            num1, num2 = rule\n",
    "            # adding the number to the seen pages\n",
    "            seen_pages.add(page)\n",
    "            # if the page is a first number, we need to check if we have already seen the second number\n",
    "            # if so, the whole ordering is wrong\n",
    "            if page == num1 and num2 in seen_pages:\n",
    "                    return False\n",
    "    return True"
   ]
  },
  {
   "cell_type": "code",
   "execution_count": 5,
   "id": "99ed9842-f832-4875-971c-b9d0e1338f35",
   "metadata": {
    "tags": []
   },
   "outputs": [],
   "source": [
    "# in order to fix an ordering, it makes sense to go through the ordering number by number and construct a new ordering according to the rules\n",
    "def fix_ordering(ordering):\n",
    "    # if the ordering is valid, we can just return 0\n",
    "    if evaluate_ordering(ordering):\n",
    "        return None\n",
    "    \n",
    "    # if it is invalid, we want to construct a new ordering\n",
    "    new_ordering = []\n",
    "    for page in ordering:\n",
    "        # keep track if we have added the page already\n",
    "        added_page = False\n",
    "        # I am taking a brute-force approach here, where I simply try to add the new page at every index and check if the new ordering still follows all of the rules\n",
    "        revised_ordering = new_ordering.copy()\n",
    "        for i in range(len(new_ordering)+1):\n",
    "            revised_ordering = new_ordering.copy()\n",
    "            revised_ordering.insert(i, page)\n",
    "            valid_ordering = evaluate_ordering(revised_ordering)\n",
    "            if valid_ordering and not added_page:\n",
    "                new_ordering.insert(i, page)\n",
    "                added_page = True\n",
    "                \n",
    "    return new_ordering\n",
    "\n",
    "def get_central_number(input_list):\n",
    "    if input_list is None:\n",
    "        return 0\n",
    "    return input_list[int(len(input_list)/2)]"
   ]
  },
  {
   "cell_type": "code",
   "execution_count": 6,
   "id": "98adda35-93c7-4f94-8d58-c3d2e6758150",
   "metadata": {
    "tags": []
   },
   "outputs": [
    {
     "data": {
      "text/plain": [
       "4681"
      ]
     },
     "execution_count": 6,
     "metadata": {},
     "output_type": "execute_result"
    }
   ],
   "source": [
    "res = 0\n",
    "for ordering in orderings:\n",
    "    res += get_central_number(fix_ordering(ordering))\n",
    "res"
   ]
  }
 ],
 "metadata": {
  "kernelspec": {
   "display_name": "tmp_env_2",
   "language": "python",
   "name": "tmp_env_2"
  },
  "language_info": {
   "codemirror_mode": {
    "name": "ipython",
    "version": 3
   },
   "file_extension": ".py",
   "mimetype": "text/x-python",
   "name": "python",
   "nbconvert_exporter": "python",
   "pygments_lexer": "ipython3",
   "version": "3.10.14"
  }
 },
 "nbformat": 4,
 "nbformat_minor": 5
}
